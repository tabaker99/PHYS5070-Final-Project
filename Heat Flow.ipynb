{
 "cells": [
  {
   "cell_type": "markdown",
   "id": "82bd5fa5",
   "metadata": {},
   "source": [
    "Our first task is to simulate the flow of heat in a solid.\n",
    "\n",
    "The heat flow equation is:\n",
    "\n",
    "$$ \\frac{\\partial u}{\\partial t} = \\frac{K}{C\\rho}\\nabla^2 u $$\n",
    "\n",
    "$$ = \\frac{K}{C\\rho} \\Big(\\frac{\\partial^2 u}{\\partial x^2}\n",
    "+ \\frac{\\partial^2 u}{\\partial y^2}\n",
    "+ \\frac{\\partial^2 u}{\\partial z^2}\\Big) $$\n",
    "\n",
    "Where $K$ is the thermal conductivity, $C$ is the specific heat, and $\\rho$ is the density.\n",
    "\n",
    "We solve this using a timestep algorithm."
   ]
  },
  {
   "cell_type": "markdown",
   "id": "d9d386fb",
   "metadata": {},
   "source": [
    "At a given point $u_i(t_{i})$, the spatial derivatives can be expressed in discrete form:\n",
    "$$ \\frac{\\partial^2 u}{\\partial x^2} = \\frac{u_{i+1} - 2u_i + u_{i-1}}{\\Delta x^2} $$\n",
    "\n",
    "And the time derivative can be expressed as:\n",
    "$$ \\frac{\\partial u}{\\partial t} = \\frac{u(t_{j+1}) - u(t_j)}{\\Delta t} $$"
   ]
  },
  {
   "cell_type": "markdown",
   "id": "b7e2ad3f",
   "metadata": {},
   "source": [
    "Given a particular temperature distribution, we may find the next iteration using the following time step equation:\n",
    "\n",
    "$$ u_{i,j,k}(t_{j+1}) = u_{i,j,k}(t_j)\n",
    " + \\Big(\n",
    "         \\frac{u_{i+1,j,k} - 2u_{i,j,k} + u_{i-1,j,k}}{\\Delta x^2}\n",
    "         + \\frac{u_{i,j+1,k} - 2u_{i,j,k} + u_{i,j-1,k}}{\\Delta y^2}\n",
    "         + \\frac{u_{i,j,k+1} - 2u_{i,j,k} + u_{i,j,k-1}}{\\Delta z^2}\n",
    "    \\Big) \\Delta t $$\n",
    "\n",
    "If we take the same spatial step size for each dimension, we may simplify the expression in parentheses:\n",
    "$$ \\Big(u_{i+1,j,k} + u_{i,j+1,k} + u_{i,j,k+1} + u_{i-1,j,k} + u_{i,j-1,k} + u_{i,j,k-1} - 6u_{i,j,k}\\Big)\n",
    "\\cdot\\frac{1}{\\Delta x^2}\n",
    "$$\n",
    "$$\n",
    "= \\frac{1}{\\Delta x^2} \\Big(\\sum_{adjacent} u(t_j)\\Big) - 6u_{i,j,k}\n",
    "$$\n",
    "\n",
    "To handle an insulated boundary, we introduce fictional points such that the derivative will always be zero.\n",
    "\n",
    "As a simplified case, we assume that the non-insulated boundaries are in perfect thermal contact with a heat sink at a constant temperature.\n"
   ]
  },
  {
   "cell_type": "code",
   "execution_count": null,
   "id": "30209b44",
   "metadata": {},
   "outputs": [],
   "source": []
  }
 ],
 "metadata": {
  "kernelspec": {
   "display_name": "Python 3 (ipykernel)",
   "language": "python",
   "name": "python3"
  },
  "language_info": {
   "codemirror_mode": {
    "name": "ipython",
    "version": 3
   },
   "file_extension": ".py",
   "mimetype": "text/x-python",
   "name": "python",
   "nbconvert_exporter": "python",
   "pygments_lexer": "ipython3",
   "version": "3.9.15"
  }
 },
 "nbformat": 4,
 "nbformat_minor": 5
}
