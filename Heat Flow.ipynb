{
 "cells": [
  {
   "cell_type": "code",
   "execution_count": 25,
   "id": "17a952ae",
   "metadata": {},
   "outputs": [],
   "source": [
    "import numpy as np\n",
    "import matplotlib.pyplot as plt"
   ]
  },
  {
   "cell_type": "markdown",
   "id": "82bd5fa5",
   "metadata": {},
   "source": [
    "Our first task is to simulate the flow of heat in a solid.\n",
    "\n",
    "The heat flow equation is:\n",
    "\n",
    "$$ \\frac{\\partial u}{\\partial t} = \\frac{K}{C\\rho}\\nabla^2 u $$\n",
    "\n",
    "$$ = \\frac{K}{C\\rho} \\Big(\\frac{\\partial^2 u}{\\partial x^2}\n",
    "+ \\frac{\\partial^2 u}{\\partial y^2}\n",
    "+ \\frac{\\partial^2 u}{\\partial z^2}\\Big) $$\n",
    "\n",
    "Where $K$ is the thermal conductivity, $C$ is the specific heat, and $\\rho$ is the density. For brevity, I will define $A = \\frac{K}{C\\rho}$.\n",
    "\n",
    "We solve this using a timestep algorithm."
   ]
  },
  {
   "cell_type": "markdown",
   "id": "d9d386fb",
   "metadata": {},
   "source": [
    "At a given point $u_i(t_{i})$, the spatial derivatives can be expressed in discrete form:\n",
    "$$ \\frac{\\partial^2 u}{\\partial x^2} = \\frac{u_{i+1} - 2u_i + u_{i-1}}{\\Delta x^2} $$\n",
    "\n",
    "And the time derivative can be expressed as:\n",
    "$$ \\frac{\\partial u}{\\partial t} = \\frac{u(t_{j+1}) - u(t_j)}{\\Delta t} $$"
   ]
  },
  {
   "cell_type": "markdown",
   "id": "b7e2ad3f",
   "metadata": {},
   "source": [
    "Given a particular temperature distribution, we may find the next iteration using the following time step equation:\n",
    "\n",
    "$$ u_{i,j,k}(t_{j+1}) = u_{i,j,k}(t_j)\n",
    " + A\\Big(\n",
    "         \\frac{u_{i+1,j,k} - 2u_{i,j,k} + u_{i-1,j,k}}{\\Delta x^2}\n",
    "         + \\frac{u_{i,j+1,k} - 2u_{i,j,k} + u_{i,j-1,k}}{\\Delta y^2}\n",
    "         + \\frac{u_{i,j,k+1} - 2u_{i,j,k} + u_{i,j,k-1}}{\\Delta z^2}\n",
    "    \\Big) \\Delta t $$\n",
    "\n",
    "If we take the same spatial step size for each dimension, we may simplify the expression in parentheses:\n",
    "$$ \\Big(u_{i+1,j,k} + u_{i,j+1,k} + u_{i,j,k+1} + u_{i-1,j,k} + u_{i,j-1,k} + u_{i,j,k-1} - 6u_{i,j,k}\\Big)\n",
    "\\cdot\\frac{1}{\\Delta x^2}\n",
    "$$\n",
    "$$\n",
    "= \\frac{1}{\\Delta x^2} \\Big(\\sum_{adjacent} u(t_j)\\Big) - 6u_{i,j,k}\n",
    "$$\n",
    "\n",
    "Thus, we have:\n",
    "$$ u_{i,j,k}(t_{j+1}) = u_{i,j,k}(t_j)\n",
    "+ \\frac{1}{\\Delta x^2} \\Big(\\sum_{adjacent} u(t_j)\\Big) - 6u_{i,j,k}\n",
    "$$\n",
    "\n",
    "To handle an insulated boundary, we introduce fictional points such that the derivative will always be zero.\n",
    "\n",
    "As a simplified case, we assume that the non-insulated boundaries are in perfect thermal contact with a heat sink at a constant temperature.\n"
   ]
  },
  {
   "cell_type": "markdown",
   "id": "c4af1b17",
   "metadata": {},
   "source": [
    "### First step: Boundary Conditions ###\n",
    "\n",
    "First I write a function that updates the fictional points. For the insulated boundaries, the fictional points are just outside the boundary and have the same temperature as the boundary.\n",
    "\n",
    "For non-insulated boundaries, the points are held at a fixed temperature."
   ]
  },
  {
   "cell_type": "code",
   "execution_count": 2,
   "id": "5d4f609d",
   "metadata": {},
   "outputs": [],
   "source": [
    "def updateBoundary(T, T_ext):\n",
    "    \"\"\"\n",
    "    Updates the boundary points for the thermal conductor.\n",
    "    The bottom surface of the conductor (where the first index is zero)\n",
    "    is assumed to have perfect thermal contact with the surroundings,\n",
    "    and will be held at temperature T_ext.\n",
    "    \n",
    "    The NumPy array is modified in-place.\n",
    "    \n",
    "    Arguments:\n",
    "    ---------\n",
    "    - T: a 3d array of temperatures within the solid. The shape of the\n",
    "         array must be (h+1, w+2, d+2) to include the fictional points\n",
    "         on 5 of the 6 surfaces.\n",
    "         \n",
    "    - T_ext: Temperature of the external environment\n",
    "    \n",
    "    Returns:\n",
    "    ------\n",
    "    Nothing\n",
    "    \n",
    "    \"\"\"\n",
    "    # Thermal conductive surface\n",
    "    T[0,:,:] = T_ext\n",
    "    \n",
    "    # Insulated surfaces\n",
    "    T[-1,:,:] = T[-2,:,:]\n",
    "    T[:,0,:] = T[:,1,:]\n",
    "    T[:,-1,:] = T[:,-2,:]\n",
    "    T[:,:,0] = T[:,:,1]\n",
    "    T[:,:,-1] = T[:,:,-2]\n",
    "    "
   ]
  },
  {
   "cell_type": "code",
   "execution_count": 16,
   "id": "9f019adb",
   "metadata": {},
   "outputs": [
    {
     "data": {
      "text/plain": [
       "array([2, 3, 1, 4, 1])"
      ]
     },
     "execution_count": 16,
     "metadata": {},
     "output_type": "execute_result"
    }
   ],
   "source": [
    "a = np.array([1, 2, 3, 1, 4])\n",
    "np.roll(a, -1, axis=0)\n"
   ]
  },
  {
   "cell_type": "code",
   "execution_count": 54,
   "id": "b0b85b75",
   "metadata": {},
   "outputs": [],
   "source": [
    "def thermalSimulate(T, t, dx=0.1, K=0.01, CR=1, T_ext=0):\n",
    "    \"\"\"\n",
    "    Simulates the diffusion of heat through a solid with an initial\n",
    "    temperature distribution given by T. One boundary of the solid\n",
    "    (where the first index is zero) is assumed to be in perfect\n",
    "    thermal contact with the surroundings. The other boundaries\n",
    "    are insulated.\n",
    "    \n",
    "    Arguments:\n",
    "    ---------\n",
    "    - T: a 3D NumPy array containing the initial temperature distribution.\n",
    "         If the actual dimensions of the solid are i, j, and k, then the\n",
    "         array should have dimensions i+1, j+2, and k+2.\n",
    "         \n",
    "    - t: an array containing the simulation times\n",
    "    \n",
    "    - dx: the separation between adjacent points in the solid\n",
    "    \n",
    "    - K: the thermal conductivity\n",
    "    \n",
    "    - CR: the specific heat capacity times the density, or equivalently,\n",
    "        the heat capacity per unit volume.\n",
    "    \n",
    "    - T_ext: the temperature of the external heat sink\n",
    "    \n",
    "    Returns:\n",
    "    -------\n",
    "    - simulation: a 4D NumPy array containing the results of the\n",
    "         simulation, with the first three indices corresponding to\n",
    "         the spatial coordinates, and the fourth index corresponding\n",
    "         to the time\n",
    "    \n",
    "    \"\"\"\n",
    "    # Make an empty array with an extra axis for time\n",
    "    simulation = np.zeros(T.shape+(len(t),))\n",
    "    \n",
    "    # Assume uniform times.\n",
    "    dt = t[1]-t[0]\n",
    "    \n",
    "    # Prefactor\n",
    "    A = K/CR\n",
    "    \n",
    "    \n",
    "    # First entry\n",
    "    currentT = T.copy()\n",
    "    updateBoundary(currentT, T_ext)\n",
    "    simulation[:,:,:,0] = currentT\n",
    "    \n",
    "    # Iterate!\n",
    "    for i in range(1,len(t)):\n",
    "        \n",
    "        # Calculate the stuff as described in the project notebook\n",
    "        T_sum = np.roll(currentT, -1, axis=0) + np.roll(currentT, 1, axis=0) \\\n",
    "              + np.roll(currentT, -1, axis=1) + np.roll(currentT, 1, axis=1) \\\n",
    "              + np.roll(currentT, -1, axis=2) + np.roll(currentT, 1, axis=2)\n",
    "        deltaT = A*(T_sum - 6*currentT)/(dx**2) * dt\n",
    "        \n",
    "        # Update the temperature\n",
    "        currentT = currentT + deltaT\n",
    "        \n",
    "        # Update the boundary, since we probably messed it up\n",
    "        updateBoundary(currentT, T_ext)\n",
    "        \n",
    "        # Add to the simulation\n",
    "        simulation[:,:,:,i] = currentT\n",
    "    \n",
    "    return simulation"
   ]
  },
  {
   "cell_type": "markdown",
   "id": "697b5148",
   "metadata": {},
   "source": [
    "### Step 3: Testing the Simulation ###\n",
    "\n",
    "First a simple test: if the solid begins at zero, with a nonzero external temperature, will the temperature equalize?"
   ]
  },
  {
   "cell_type": "code",
   "execution_count": 87,
   "id": "ac7f46bc",
   "metadata": {},
   "outputs": [],
   "source": [
    "# Initial temperature 0K\n",
    "T = np.zeros((11, 12, 12))\n",
    "\n",
    "# Time span of 100 seconds\n",
    "t=np.linspace(0, 100, 1000)\n",
    "\n",
    "# Simulate with an external temperature of 10 K\n",
    "sim = thermalSimulate(T, t, T_ext=10)\n"
   ]
  },
  {
   "cell_type": "code",
   "execution_count": 103,
   "id": "8ebfe9e9",
   "metadata": {
    "scrolled": false
   },
   "outputs": [
    {
     "data": {
      "text/plain": [
       "<Figure size 640x480 with 0 Axes>"
      ]
     },
     "execution_count": 103,
     "metadata": {},
     "output_type": "execute_result"
    },
    {
     "data": {
      "image/png": "[encoded data removed]",
      "text/plain": [
       "<Figure size 640x480 with 1 Axes>"
      ]
     },
     "metadata": {},
     "output_type": "display_data"
    },
    {
     "data": {
      "image/png": "[encoded data removed]",
      "text/plain": [
       "<Figure size 640x480 with 1 Axes>"
      ]
     },
     "metadata": {},
     "output_type": "display_data"
    },
    {
     "data": {
      "text/plain": [
       "<Figure size 640x480 with 0 Axes>"
      ]
     },
     "metadata": {},
     "output_type": "display_data"
    }
   ],
   "source": [
    "# Display a cross section from the middle of the solid\n",
    "# observed at the end of the simulation\n",
    "plt.imshow(sim[:,5,:,-1])\n",
    "plt.figure()\n",
    "# Plot the temperature from the insulated to the\n",
    "# non-insulated end\n",
    "plt.plot(sim[:,5,5,-1])\n",
    "plt.ylim(0,10)\n",
    "plt.xlim(0,10)\n",
    "plt.figure()"
   ]
  },
  {
   "cell_type": "markdown",
   "id": "365a9264",
   "metadata": {},
   "source": [
    "Now run the simulator with a single photon strike at the top center."
   ]
  },
  {
   "cell_type": "code",
   "execution_count": 185,
   "id": "2e67101b",
   "metadata": {},
   "outputs": [],
   "source": [
    "# Initial temperature 0K\n",
    "T = np.ones((12, 13, 13))*4\n",
    "T[10,6,6] = 44\n",
    "\n",
    "# Time span of 100 seconds\n",
    "t=np.arange(0, 100, 0.1)\n",
    "\n",
    "# Simulate with an external temperature of 10 K\n",
    "sim = thermalSimulate(T, t, T_ext=4)"
   ]
  },
  {
   "cell_type": "code",
   "execution_count": 170,
   "id": "3940d4a7",
   "metadata": {
    "scrolled": false
   },
   "outputs": [
    {
     "data": {
      "text/plain": [
       "<Figure size 640x480 with 0 Axes>"
      ]
     },
     "execution_count": 170,
     "metadata": {},
     "output_type": "execute_result"
    },
    {
     "data": {
      "image/png": "[encoded data removed]",
      "text/plain": [
       "<Figure size 640x480 with 1 Axes>"
      ]
     },
     "metadata": {},
     "output_type": "display_data"
    },
    {
     "data": {
      "text/plain": [
       "<Figure size 640x480 with 0 Axes>"
      ]
     },
     "metadata": {},
     "output_type": "display_data"
    }
   ],
   "source": [
    "plt.imshow(sim[:,6,:,100], vmin=4, vmax=4.05)\n",
    "# plt.imshow(T[:,6,:])\n",
    "plt.figure()"
   ]
  },
  {
   "cell_type": "code",
   "execution_count": 186,
   "id": "1ab73309",
   "metadata": {
    "scrolled": false
   },
   "outputs": [
    {
     "data": {
      "text/plain": [
       "[<matplotlib.lines.Line2D at 0x7faedeb13d00>]"
      ]
     },
     "execution_count": 186,
     "metadata": {},
     "output_type": "execute_result"
    },
    {
     "data": {
      "image/png": "[encoded data removed]",
      "text/plain": [
       "<Figure size 640x480 with 1 Axes>"
      ]
     },
     "metadata": {},
     "output_type": "display_data"
    }
   ],
   "source": [
    "t_signature = sim[1,6,6,:]\n",
    "plt.plot(t,t_signature)"
   ]
  },
  {
   "cell_type": "code",
   "execution_count": 208,
   "id": "1917146d",
   "metadata": {},
   "outputs": [],
   "source": [
    "def getSignature(p_loc, p_energy, dt=0.1, tmax=100, T_ext=4, sensor_loc=(1, 6, 6)):\n",
    "    # Initial temperature\n",
    "    T = np.ones((12, 13, 13))*T_ext\n",
    "    T[p_loc[0], p_loc[1], p_loc[2]] = T_ext + p_energy\n",
    "\n",
    "    t=np.arange(0, tmax, dt)\n",
    "\n",
    "    sim = thermalSimulate(T, t, T_ext=T_ext)\n",
    "    \n",
    "    signature = sim[sensor_loc[0],sensor_loc[1],sensor_loc[2],:]\n",
    "    \n",
    "    return t, signature"
   ]
  },
  {
   "cell_type": "code",
   "execution_count": 215,
   "id": "66340dfd",
   "metadata": {},
   "outputs": [
    {
     "data": {
      "text/plain": [
       "[<matplotlib.lines.Line2D at 0x7faecfc4b4c0>]"
      ]
     },
     "execution_count": 215,
     "metadata": {},
     "output_type": "execute_result"
    },
    {
     "data": {
      "image/png": "[encoded data removed]",
      "text/plain": [
       "<Figure size 640x480 with 1 Axes>"
      ]
     },
     "metadata": {},
     "output_type": "display_data"
    }
   ],
   "source": [
    "\n",
    "t, sig = getSignature((10, 1, 5), 100, tmax=300)\n",
    "plt.plot(t, sig)"
   ]
  }
 ],
 "metadata": {
  "kernelspec": {
   "display_name": "Python 3 (ipykernel)",
   "language": "python",
   "name": "python3"
  },
  "language_info": {
   "codemirror_mode": {
    "name": "ipython",
    "version": 3
   },
   "file_extension": ".py",
   "mimetype": "text/x-python",
   "name": "python",
   "nbconvert_exporter": "python",
   "pygments_lexer": "ipython3",
   "version": "3.9.15"
  }
 },
 "nbformat": 4,
 "nbformat_minor": 5
}
