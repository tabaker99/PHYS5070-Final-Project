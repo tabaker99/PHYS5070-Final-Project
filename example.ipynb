{
 "cells": [
  {
   "cell_type": "code",
   "execution_count": null,
   "id": "65b58bf2",
   "metadata": {},
   "outputs": [],
   "source": [
    "import numpy as np\n",
    "import matplotlib.pyplot as plt\n",
    "\n",
    "import photon_absorber"
   ]
  },
  {
   "cell_type": "markdown",
   "id": "972e5377",
   "metadata": {},
   "source": [
    "Below is an example for using the getSignature function within the photon absorber module.\n",
    "The example uses a 100keV photon and an absorber made of tin."
   ]
  },
  {
   "cell_type": "code",
   "execution_count": null,
   "id": "860a992a",
   "metadata": {},
   "outputs": [],
   "source": [
    "# Assume a 1 mm cube of tin\n",
    "dx = 1e-3/11\n",
    "\n",
    "K = 0.668 # Thermal conductivity of tin\n",
    "CR = 1.256 # Specific heat times density of tin\n",
    "tin_A = K/CR # Calculate the ratio\n",
    "\n",
    "# Photon energy\n",
    "E = 1.6e-14\n",
    "\n",
    "# Change in temperature at the strike location\n",
    "deltaT = E/(CR * dx**3)\n",
    "\n",
    "# Initial temperature array\n",
    "T = np.zeros((11,11,11))\n",
    "\n",
    "# Run the simulation\n",
    "t, signature = photon_absorber.getSignature(T, (-1, 5, 5), p_temp=deltaT, steps=500, A=tin_A, dx=dx)\n",
    "\n",
    "# Plot the result\n",
    "plt.plot(t, signature)\n",
    "plt.xlabel(\"Time (s)\")\n",
    "plt.ylabel(\"Temperature change (K)\")"
   ]
  }
 ],
 "metadata": {
  "kernelspec": {
   "display_name": "Python 3 (ipykernel)",
   "language": "python",
   "name": "python3"
  },
  "language_info": {
   "codemirror_mode": {
    "name": "ipython",
    "version": 3
   },
   "file_extension": ".py",
   "mimetype": "text/x-python",
   "name": "python",
   "nbconvert_exporter": "python",
   "pygments_lexer": "ipython3",
   "version": "3.9.15"
  }
 },
 "nbformat": 4,
 "nbformat_minor": 5
}
